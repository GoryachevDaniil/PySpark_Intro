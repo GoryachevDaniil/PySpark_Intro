{
  "nbformat": 4,
  "nbformat_minor": 0,
  "metadata": {
    "colab": {
      "name": "PySpark_Intro.ipynb",
      "provenance": [],
      "collapsed_sections": [],
      "authorship_tag": "ABX9TyM8iGDqsrWLPIiU73/8v78K",
      "include_colab_link": true
    },
    "kernelspec": {
      "name": "python3",
      "display_name": "Python 3"
    },
    "language_info": {
      "name": "python"
    }
  },
  "cells": [
    {
      "cell_type": "markdown",
      "metadata": {
        "id": "view-in-github",
        "colab_type": "text"
      },
      "source": [
        "<a href=\"https://colab.research.google.com/github/GoryachevDaniil/PySpark_Intro/blob/main/PySpark_Intro.ipynb\" target=\"_parent\"><img src=\"https://colab.research.google.com/assets/colab-badge.svg\" alt=\"Open In Colab\"/></a>"
      ]
    },
    {
      "cell_type": "code",
      "source": [
        "# import platform\n",
        "\n",
        "# if platform == \"linux\" or platform == \"linux2\":\n",
        "#     # linux\n",
        "# elif platform == \"darwin\":\n",
        "#     # OS X\n",
        "# elif platform == \"win32\":\n",
        "#     # Windows...\n",
        "\n",
        "\n",
        "# platform.system()"
      ],
      "metadata": {
        "id": "Pn67k5yZtDME"
      },
      "execution_count": 1,
      "outputs": []
    },
    {
      "cell_type": "code",
      "source": [
        "!pip install pyspark==3.0.1 py4j==0.10.9"
      ],
      "metadata": {
        "id": "kUrHU6m4bCV_",
        "colab": {
          "base_uri": "https://localhost:8080/"
        },
        "outputId": "b4404360-4a51-469f-ba3b-acabf7859b45"
      },
      "execution_count": 2,
      "outputs": [
        {
          "output_type": "stream",
          "name": "stdout",
          "text": [
            "Looking in indexes: https://pypi.org/simple, https://us-python.pkg.dev/colab-wheels/public/simple/\n",
            "Requirement already satisfied: pyspark==3.0.1 in /usr/local/lib/python3.7/dist-packages (3.0.1)\n",
            "Requirement already satisfied: py4j==0.10.9 in /usr/local/lib/python3.7/dist-packages (0.10.9)\n"
          ]
        }
      ]
    },
    {
      "cell_type": "code",
      "source": [
        "# import os\n",
        "# os.environ[\"JAVA_HOME\"] = \"/usr/lib/jvm/java-8-openjdk-amd64\"\n",
        "# os.environ[\"SPARK_HOME\"] = \"/content/spark-3.1.1-bin-hadoop3.2\""
      ],
      "metadata": {
        "id": "_sTDvx9wbjZ1"
      },
      "execution_count": 3,
      "outputs": []
    },
    {
      "cell_type": "code",
      "source": [
        "from google.colab import drive\n",
        "drive.mount('/content/gdrive')"
      ],
      "metadata": {
        "id": "ZLHOaJlwbdaq",
        "colab": {
          "base_uri": "https://localhost:8080/"
        },
        "outputId": "e6da5610-c0ac-44b1-9ff9-5d1975a86c0f"
      },
      "execution_count": 4,
      "outputs": [
        {
          "output_type": "stream",
          "name": "stdout",
          "text": [
            "Drive already mounted at /content/gdrive; to attempt to forcibly remount, call drive.mount(\"/content/gdrive\", force_remount=True).\n"
          ]
        }
      ]
    },
    {
      "cell_type": "code",
      "source": [
        "DATA_DIR = '/content/gdrive/My Drive/InnoStage_Intership/data/'"
      ],
      "metadata": {
        "id": "BnlTIqK9AycE"
      },
      "execution_count": 5,
      "outputs": []
    },
    {
      "cell_type": "code",
      "source": [
        "# pyspark --packages org.apache.spark:spark-avro_2.12:3.3.0 --py-files my_pyFile.py # use on pc"
      ],
      "metadata": {
        "id": "1FCsYmGoRDSp"
      },
      "execution_count": 6,
      "outputs": []
    },
    {
      "cell_type": "code",
      "source": [
        "from pyspark.sql import SparkSession\n",
        "\n",
        "spark = SparkSession.builder\\\n",
        "        .master(\"local[*]\")\\\n",
        "        .appName('My_1st_PySpark')\\\n",
        "        .getOrCreate()\n",
        "\n",
        "# spark.stop()"
      ],
      "metadata": {
        "id": "StewzWDCbRep"
      },
      "execution_count": 7,
      "outputs": []
    },
    {
      "cell_type": "code",
      "source": [
        "# CSV \n",
        "# Источник данныx: https://sparkbyexamples.com/pyspark/pyspark-read-csv-file-into-dataframe/"
      ],
      "metadata": {
        "id": "D1M_sH-jwjSJ"
      },
      "execution_count": 8,
      "outputs": []
    },
    {
      "cell_type": "code",
      "source": [
        "from pyspark.sql.types import StructType, StringType, IntegerType, BooleanType, StructField\n",
        "\n",
        "fromCsv = spark.read.csv(DATA_DIR + 'iris.csv', sep=',', header=True) # v1\n",
        "fromCsv.printSchema()\n",
        "\n",
        "newSchema = StructType().add(\"col1\", IntegerType(), True)\\\n",
        "                        .add(\"col2\", StringType(), True)\\\n",
        "                        .add(\"col3\", BooleanType(), False)\n",
        "\n",
        "csvNewSchema = spark.read.csv(DATA_DIR + 'iris.csv', header=True, schema=newSchema)\n",
        "csvNewSchema.printSchema()\n",
        "\n",
        "try:\n",
        "  fromCsv.write.csv(DATA_DIR + 'test_csv_file.csv', header=\"true\")\n",
        "except:\n",
        "  fromCsv.write.csv(DATA_DIR + 'test_csv_file.csv', header='True', mode=\"overwrite\")\n",
        "finally:\n",
        "  fromCsv = spark.read.options(header=True).csv(DATA_DIR + 'test_csv_file.csv')\n",
        "fromCsv.printSchema()"
      ],
      "metadata": {
        "id": "uFo6Dmf-bg53",
        "colab": {
          "base_uri": "https://localhost:8080/"
        },
        "outputId": "ca93a25b-0308-4d03-f74c-109da5897224"
      },
      "execution_count": 9,
      "outputs": [
        {
          "output_type": "stream",
          "name": "stdout",
          "text": [
            "root\n",
            " |-- _c0: string (nullable = true)\n",
            " |-- sepal length: string (nullable = true)\n",
            " |-- sepal width: string (nullable = true)\n",
            " |-- petal length: string (nullable = true)\n",
            " |-- petal width: string (nullable = true)\n",
            " |-- species: string (nullable = true)\n",
            "\n",
            "root\n",
            " |-- col1: integer (nullable = true)\n",
            " |-- col2: string (nullable = true)\n",
            " |-- col3: boolean (nullable = true)\n",
            "\n",
            "root\n",
            " |-- _c0: string (nullable = true)\n",
            " |-- sepal length: string (nullable = true)\n",
            " |-- sepal width: string (nullable = true)\n",
            " |-- petal length: string (nullable = true)\n",
            " |-- petal width: string (nullable = true)\n",
            " |-- species: string (nullable = true)\n",
            "\n"
          ]
        }
      ]
    },
    {
      "cell_type": "code",
      "source": [
        "# Parquet\n",
        "# Источник данныx:https://sparkbyexamples.com/pyspark/pyspark-read-and-write-parquet-file/"
      ],
      "metadata": {
        "id": "MOSeOU1CwgRU"
      },
      "execution_count": 10,
      "outputs": []
    },
    {
      "cell_type": "code",
      "source": [
        "data =[(\"James \",\"\",\"Smith\",\"36636\",\"M\",3000),\n",
        "        (\"Michael \",\"Rose\",\"\",\"40288\",\"M\",4000),\n",
        "        (\"Robert \",\"\",\"Williams\",\"42114\",\"M\",4000),\n",
        "        (\"Maria \",\"Anne\",\"Jones\",\"39192\",\"F\",4000),\n",
        "        (\"Jen\",\"Mary\",\"Brown\",\"\",\"F\",-1)]\n",
        "columns=[\"firstname\",\"middlename\",\"lastname\",\"dob\",\"gender\",\"salary\"]\n",
        "df=spark.createDataFrame(data,columns)\n",
        "df.show()"
      ],
      "metadata": {
        "colab": {
          "base_uri": "https://localhost:8080/"
        },
        "id": "Z5FpPGsDSrDq",
        "outputId": "3a9a1361-755a-46dd-c06a-485a70f923bc"
      },
      "execution_count": 11,
      "outputs": [
        {
          "output_type": "stream",
          "name": "stdout",
          "text": [
            "+---------+----------+--------+-----+------+------+\n",
            "|firstname|middlename|lastname|  dob|gender|salary|\n",
            "+---------+----------+--------+-----+------+------+\n",
            "|   James |          |   Smith|36636|     M|  3000|\n",
            "| Michael |      Rose|        |40288|     M|  4000|\n",
            "|  Robert |          |Williams|42114|     M|  4000|\n",
            "|   Maria |      Anne|   Jones|39192|     F|  4000|\n",
            "|      Jen|      Mary|   Brown|     |     F|    -1|\n",
            "+---------+----------+--------+-----+------+------+\n",
            "\n"
          ]
        }
      ]
    },
    {
      "cell_type": "code",
      "source": [
        "try:\n",
        "  df.write.parquet(DATA_DIR + 'test_parquet_file.parquet')\n",
        "except Exception as ex:\n",
        "  print(ex)\n",
        "fromParquet = spark.read.parquet(DATA_DIR + 'test_parquet_file.parquet')\n",
        "fromParquet.show()"
      ],
      "metadata": {
        "id": "0SDWucWWSrAt",
        "colab": {
          "base_uri": "https://localhost:8080/"
        },
        "outputId": "c0d2eeec-0510-490a-a1af-28991972819a"
      },
      "execution_count": 12,
      "outputs": [
        {
          "output_type": "stream",
          "name": "stdout",
          "text": [
            "path file:/content/gdrive/My Drive/InnoStage_Intership/data/test_parquet_file.parquet already exists.;\n",
            "+---------+----------+--------+-----+------+------+\n",
            "|firstname|middlename|lastname|  dob|gender|salary|\n",
            "+---------+----------+--------+-----+------+------+\n",
            "|  Robert |          |Williams|42114|     M|  4000|\n",
            "|   Maria |      Anne|   Jones|39192|     F|  4000|\n",
            "|      Jen|      Mary|   Brown|     |     F|    -1|\n",
            "|   James |          |   Smith|36636|     M|  3000|\n",
            "| Michael |      Rose|        |40288|     M|  4000|\n",
            "+---------+----------+--------+-----+------+------+\n",
            "\n"
          ]
        }
      ]
    },
    {
      "cell_type": "code",
      "source": [
        "fromParquet.createOrReplaceTempView(\"fromParquetTable\")\n",
        "fromParquet.printSchema()\n",
        "fromParquet.show()"
      ],
      "metadata": {
        "id": "FwNyff3wSq0z",
        "colab": {
          "base_uri": "https://localhost:8080/"
        },
        "outputId": "29ca9cdc-73b4-4407-a7ba-b91f07e60606"
      },
      "execution_count": 13,
      "outputs": [
        {
          "output_type": "stream",
          "name": "stdout",
          "text": [
            "root\n",
            " |-- firstname: string (nullable = true)\n",
            " |-- middlename: string (nullable = true)\n",
            " |-- lastname: string (nullable = true)\n",
            " |-- dob: string (nullable = true)\n",
            " |-- gender: string (nullable = true)\n",
            " |-- salary: long (nullable = true)\n",
            "\n",
            "+---------+----------+--------+-----+------+------+\n",
            "|firstname|middlename|lastname|  dob|gender|salary|\n",
            "+---------+----------+--------+-----+------+------+\n",
            "|  Robert |          |Williams|42114|     M|  4000|\n",
            "|   Maria |      Anne|   Jones|39192|     F|  4000|\n",
            "|      Jen|      Mary|   Brown|     |     F|    -1|\n",
            "|   James |          |   Smith|36636|     M|  3000|\n",
            "| Michael |      Rose|        |40288|     M|  4000|\n",
            "+---------+----------+--------+-----+------+------+\n",
            "\n"
          ]
        }
      ]
    },
    {
      "cell_type": "code",
      "source": [
        "fromParquetSQL = spark.sql(\"select * from fromParquetTable where gender == 'M'\")\n",
        "fromParquetSQL.show()"
      ],
      "metadata": {
        "colab": {
          "base_uri": "https://localhost:8080/"
        },
        "id": "BpXp4wBzvJ7z",
        "outputId": "9acc09c5-4865-4230-dbb0-b4857091a79a"
      },
      "execution_count": 14,
      "outputs": [
        {
          "output_type": "stream",
          "name": "stdout",
          "text": [
            "+---------+----------+--------+-----+------+------+\n",
            "|firstname|middlename|lastname|  dob|gender|salary|\n",
            "+---------+----------+--------+-----+------+------+\n",
            "|  Robert |          |Williams|42114|     M|  4000|\n",
            "|   James |          |   Smith|36636|     M|  3000|\n",
            "| Michael |      Rose|        |40288|     M|  4000|\n",
            "+---------+----------+--------+-----+------+------+\n",
            "\n"
          ]
        }
      ]
    },
    {
      "cell_type": "code",
      "source": [
        "try:\n",
        "  fromParquet.write.partitionBy('gender').parquet(DATA_DIR + 'test_partition_parquet_file.parquet')\n",
        "except Exception as ex:\n",
        "  print(ex)\n",
        "fromPartitionParquet = spark.read.parquet(DATA_DIR.lstrip('/content/') + 'test_partition_parquet_file.parquet/gender=M')\n",
        "fromPartitionParquet.show()"
      ],
      "metadata": {
        "id": "-pZ55TU0VfP-",
        "colab": {
          "base_uri": "https://localhost:8080/"
        },
        "outputId": "96443cc2-593d-4b85-bcbf-74de4f5d0978"
      },
      "execution_count": 15,
      "outputs": [
        {
          "output_type": "stream",
          "name": "stdout",
          "text": [
            "path file:/content/gdrive/My Drive/InnoStage_Intership/data/test_partition_parquet_file.parquet already exists.;\n",
            "+---------+----------+--------+-----+------+\n",
            "|firstname|middlename|lastname|  dob|salary|\n",
            "+---------+----------+--------+-----+------+\n",
            "|  Robert |          |Williams|42114|  4000|\n",
            "|   James |          |   Smith|36636|  3000|\n",
            "| Michael |      Rose|        |40288|  4000|\n",
            "+---------+----------+--------+-----+------+\n",
            "\n"
          ]
        }
      ]
    },
    {
      "cell_type": "code",
      "source": [
        "try:\n",
        "  spark.sql(\"CREATE TEMPORARY VIEW PERSONS USING parquet OPTIONS \\\n",
        "            (path \\\"/content/gdrive/My Drive/InnoStage_Intership/data/test_partition_parquet_file.parquet\\/gender=F\\\")\")\n",
        "except Exception as ex:\n",
        "  print(ex)\n",
        "spark.sql(\"SELECT * FROM PERSONS\" ).show()"
      ],
      "metadata": {
        "id": "rlGqJ6qOVeoH",
        "colab": {
          "base_uri": "https://localhost:8080/"
        },
        "outputId": "a38f7f4e-d69c-4180-f3e8-17bf6a686d97"
      },
      "execution_count": 16,
      "outputs": [
        {
          "output_type": "stream",
          "name": "stdout",
          "text": [
            "+---------+----------+--------+-----+------+\n",
            "|firstname|middlename|lastname|  dob|salary|\n",
            "+---------+----------+--------+-----+------+\n",
            "|   Maria |      Anne|   Jones|39192|  4000|\n",
            "|      Jen|      Mary|   Brown|     |    -1|\n",
            "+---------+----------+--------+-----+------+\n",
            "\n"
          ]
        }
      ]
    },
    {
      "cell_type": "code",
      "source": [
        "# Avro\n",
        "# Источник данныx:https://sparkbyexamples.com/pyspark/pyspark-read-and-write-parquet-file/"
      ],
      "metadata": {
        "id": "fp6Jz3UyvJ4F"
      },
      "execution_count": 17,
      "outputs": []
    },
    {
      "cell_type": "code",
      "source": [
        "# !pip install avro"
      ],
      "metadata": {
        "id": "8zmcm5mbZ-jd"
      },
      "execution_count": 18,
      "outputs": []
    },
    {
      "cell_type": "code",
      "source": [
        "# import avro"
      ],
      "metadata": {
        "id": "tyvEIvAFafsh"
      },
      "execution_count": 19,
      "outputs": []
    },
    {
      "cell_type": "code",
      "source": [
        "# fromAvro = spark.read.format(\"avro\").load(\"data/users.avro\") # local session on pc\n",
        "# subset = df.where(\"favorite_color == 'red'\")\n",
        "# try:\n",
        "#   subset.write.format(\"avro\").save(\"data/output_avro\")\n",
        "# except Exception as ex:\n",
        "#   print(ex)\n",
        "#   subset.write.mode(\"overwrite\").format(\"avro\").save(\"data/output_avro\")"
      ],
      "metadata": {
        "id": "AwJWcTB1N7Jt"
      },
      "execution_count": 20,
      "outputs": []
    },
    {
      "cell_type": "code",
      "source": [
        "# Task 2"
      ],
      "metadata": {
        "id": "OZxoN8oddvLJ"
      },
      "execution_count": 21,
      "outputs": []
    },
    {
      "cell_type": "code",
      "source": [
        "# from pyspark.sql import SparkSession\n",
        "\n",
        "# spark = SparkSession.builder\\\n",
        "#         .master(\"local[*]\")\\\n",
        "#         .appName('My_2nd_PySpark')\\\n",
        "#         .getOrCreate()"
      ],
      "metadata": {
        "id": "bYGhj6JWbYQD"
      },
      "execution_count": 22,
      "outputs": []
    },
    {
      "cell_type": "code",
      "source": [
        "!pip install dpkt"
      ],
      "metadata": {
        "colab": {
          "base_uri": "https://localhost:8080/"
        },
        "id": "OMluxcaocH61",
        "outputId": "e0015a8e-3fb7-4c81-bb9a-15ba31b3aeb2"
      },
      "execution_count": 23,
      "outputs": [
        {
          "output_type": "stream",
          "name": "stdout",
          "text": [
            "Looking in indexes: https://pypi.org/simple, https://us-python.pkg.dev/colab-wheels/public/simple/\n",
            "Requirement already satisfied: dpkt in /usr/local/lib/python3.7/dist-packages (1.9.7.2)\n"
          ]
        }
      ]
    },
    {
      "cell_type": "code",
      "source": [
        "import os\n",
        "import os.path\n",
        "import dpkt\n",
        "import socket\n",
        "import pandas as pd\n",
        "import numpy as np"
      ],
      "metadata": {
        "id": "Okpwkc02YeV3"
      },
      "execution_count": 24,
      "outputs": []
    },
    {
      "cell_type": "code",
      "source": [
        "import pyarrow as pa\n",
        "import pyarrow.parquet as pq\n",
        "import pyspark.sql.functions as F"
      ],
      "metadata": {
        "id": "16RcX-Y3v-Zx"
      },
      "execution_count": 25,
      "outputs": []
    },
    {
      "cell_type": "code",
      "source": [
        "def main():\n",
        "    pcap = dpkt.pcap.Reader(open('/content/gdrive/My Drive/InnoStage_Intership/data/wireshark_test.pcap', \"rb\"))\n",
        "    data = []\n",
        "    for ts, buf in pcap:\n",
        "        eth = dpkt.ethernet.Ethernet(buf)\n",
        "        ip = eth.data\n",
        "        try:\n",
        "            ipsrc = socket.inet_ntoa(ip.src)\n",
        "            ipdst = socket.inet_ntoa(ip.dst)\n",
        "            srcport = ip.data.sport\n",
        "            dstport = ip.data.dport\n",
        "        except:\n",
        "            continue\n",
        "        data.append([ipsrc, ipdst, srcport, dstport, len(buf)])\n",
        "    columns = ['Source', 'Destination', 'Source_Port', 'Destination_Port', 'Bytes']\n",
        "    df = pd.DataFrame(data, columns=columns)\n",
        "    table = pa.Table.from_pandas(df)\n",
        "\n",
        "    if os.path.exists('/content/gdrive/My Drive/InnoStage_Intership/data/ParsedPcap.parquet'):\n",
        "        os.remove('/content/gdrive/My Drive/InnoStage_Intership/data/ParsedPcap.parquet')\n",
        "    pq.write_table(table, '/content/gdrive/My Drive/InnoStage_Intership/data/ParsedPcap.parquet')\n",
        "\n",
        "if __name__ == \"__main__\":\n",
        "    main()"
      ],
      "metadata": {
        "id": "wdrMh7SNYLVP"
      },
      "execution_count": 26,
      "outputs": []
    },
    {
      "cell_type": "code",
      "source": [
        "pcapFile = spark.read.parquet(DATA_DIR + 'ParsedPcap.parquet')\n",
        "# pcapFile = spark.read.parquet('data/ParsedPcap.parquet')"
      ],
      "metadata": {
        "id": "cOaEwdkOxJDv"
      },
      "execution_count": 27,
      "outputs": []
    },
    {
      "cell_type": "code",
      "source": [
        "pcapFile.show()"
      ],
      "metadata": {
        "colab": {
          "base_uri": "https://localhost:8080/"
        },
        "id": "1zzbfZZkxVCY",
        "outputId": "87a58ed6-3407-49e4-892c-9c788c8834c9"
      },
      "execution_count": 28,
      "outputs": [
        {
          "output_type": "stream",
          "name": "stdout",
          "text": [
            "+--------------+--------------+-----------+----------------+-----+\n",
            "|        Source|   Destination|Source_Port|Destination_Port|Bytes|\n",
            "+--------------+--------------+-----------+----------------+-----+\n",
            "|192.168.10.148|192.168.11.255|       7890|            7890|   82|\n",
            "| 192.168.10.59|192.168.11.255|       7890|            7890|   85|\n",
            "|192.168.10.122|192.168.11.255|       7890|            7890|   82|\n",
            "| 192.168.10.35|   224.0.0.251|       5353|            5353|  119|\n",
            "|   69.94.76.71| 192.168.10.84|        443|           52510|  328|\n",
            "| 192.168.10.84|   69.94.76.71|      52510|             443|   54|\n",
            "| 192.168.10.84|   69.94.76.71|      52510|             443|  774|\n",
            "| 192.168.10.59|192.168.11.255|       7890|            7890|   96|\n",
            "|192.168.10.208|192.168.11.255|       7890|            7890|   89|\n",
            "|   69.94.76.71| 192.168.10.84|        443|           52510| 1434|\n",
            "|   69.94.76.71| 192.168.10.84|        443|           52510|  382|\n",
            "| 192.168.10.84|   69.94.76.71|      52510|             443|   54|\n",
            "| 192.168.10.53|192.168.11.255|       7890|            7890|   85|\n",
            "| 192.168.10.39|192.168.11.255|       7890|            7890|   89|\n",
            "|192.168.10.175|192.168.11.255|       7890|            7890|   82|\n",
            "| 192.168.10.97|192.168.11.255|       7890|            7890|   92|\n",
            "| 192.168.10.53|192.168.11.255|       7890|            7890|   96|\n",
            "| 192.168.10.97|192.168.11.255|       7890|            7890|   82|\n",
            "| 192.168.10.25|192.168.11.255|       7890|            7890|   82|\n",
            "| 192.168.10.15|   224.0.0.251|       5353|            5353|  193|\n",
            "+--------------+--------------+-----------+----------------+-----+\n",
            "only showing top 20 rows\n",
            "\n"
          ]
        }
      ]
    },
    {
      "cell_type": "code",
      "source": [
        "df_1 = pcapFile.groupBy('Source').count()\n",
        "df_1.show()"
      ],
      "metadata": {
        "colab": {
          "base_uri": "https://localhost:8080/"
        },
        "id": "WTZS3mTZd8xH",
        "outputId": "a7882ed3-6682-468c-fd8c-416aec901d8d"
      },
      "execution_count": 29,
      "outputs": [
        {
          "output_type": "stream",
          "name": "stdout",
          "text": [
            "+--------------+-----+\n",
            "|        Source|count|\n",
            "+--------------+-----+\n",
            "| 192.168.10.97|   40|\n",
            "| 192.168.10.79|    4|\n",
            "|192.168.10.175|   23|\n",
            "| 192.168.10.54|   40|\n",
            "|   69.94.76.71|    3|\n",
            "|209.85.233.139|    2|\n",
            "|192.168.10.145|    4|\n",
            "| 192.168.10.58|    1|\n",
            "| 192.168.10.53|   40|\n",
            "| 192.168.10.84|   30|\n",
            "| 192.168.10.15|    1|\n",
            "|108.177.14.188|    1|\n",
            "|192.168.10.122|   41|\n",
            "| 192.168.10.25|   22|\n",
            "|74.125.205.105|    4|\n",
            "| 192.168.10.39|   23|\n",
            "|  192.168.10.1|    2|\n",
            "|192.168.10.192|    5|\n",
            "| 192.168.10.24|    2|\n",
            "|192.168.10.209|    2|\n",
            "+--------------+-----+\n",
            "only showing top 20 rows\n",
            "\n"
          ]
        }
      ]
    },
    {
      "cell_type": "code",
      "source": [
        "df_2 = pcapFile.groupBy('Source', 'Destination').count()\n",
        "df_2.show()"
      ],
      "metadata": {
        "colab": {
          "base_uri": "https://localhost:8080/"
        },
        "id": "g0oOAVhOd8uG",
        "outputId": "2b67a764-bb46-4651-9d4e-3027542cf945"
      },
      "execution_count": 30,
      "outputs": [
        {
          "output_type": "stream",
          "name": "stdout",
          "text": [
            "+--------------+---------------+-----+\n",
            "|        Source|    Destination|count|\n",
            "+--------------+---------------+-----+\n",
            "|192.168.10.134| 192.168.11.255|   22|\n",
            "|192.168.10.209| 192.168.11.255|    1|\n",
            "| 192.168.10.53| 192.168.11.255|   40|\n",
            "| 192.168.10.84|   192.168.10.1|    2|\n",
            "|192.168.10.148| 192.168.11.255|   23|\n",
            "| 192.168.10.84|    69.94.76.71|    3|\n",
            "|192.168.10.115| 192.168.11.255|   40|\n",
            "|108.177.14.188|  192.168.10.84|    1|\n",
            "|192.168.10.145|239.255.255.250|    4|\n",
            "|209.85.233.139|  192.168.10.84|    2|\n",
            "| 192.168.10.35|    224.0.0.251|    3|\n",
            "|192.168.10.175| 192.168.11.255|   23|\n",
            "|192.168.10.209|    224.0.0.251|    1|\n",
            "| 192.168.10.59| 192.168.11.255|   42|\n",
            "| 192.168.10.58|    224.0.0.251|    1|\n",
            "|74.125.205.105|  192.168.10.84|    4|\n",
            "| 192.168.10.97| 192.168.11.255|   40|\n",
            "|192.168.10.122| 192.168.11.255|   41|\n",
            "|192.168.10.202|239.255.255.250|    9|\n",
            "| 192.168.10.39| 192.168.11.255|   23|\n",
            "+--------------+---------------+-----+\n",
            "only showing top 20 rows\n",
            "\n"
          ]
        }
      ]
    },
    {
      "cell_type": "code",
      "source": [
        "df_3 = pcapFile.groupBy('Source', 'Destination').agg({'Bytes' : 'sum'}).withColumnRenamed('sum(Bytes)', 'Total bytes')\n",
        "df_3.show()"
      ],
      "metadata": {
        "colab": {
          "base_uri": "https://localhost:8080/"
        },
        "id": "CjA7hzT3I09u",
        "outputId": "3d8bd16a-31c7-47a0-92c0-0c2f7c996663"
      },
      "execution_count": 31,
      "outputs": [
        {
          "output_type": "stream",
          "name": "stdout",
          "text": [
            "+--------------+---------------+-----------+\n",
            "|        Source|    Destination|Total bytes|\n",
            "+--------------+---------------+-----------+\n",
            "|192.168.10.134| 192.168.11.255|       1804|\n",
            "|192.168.10.209| 192.168.11.255|         82|\n",
            "| 192.168.10.53| 192.168.11.255|       3620|\n",
            "| 192.168.10.84|   192.168.10.1|        148|\n",
            "|192.168.10.148| 192.168.11.255|       1886|\n",
            "| 192.168.10.84|    69.94.76.71|        882|\n",
            "|192.168.10.115| 192.168.11.255|       3760|\n",
            "|108.177.14.188|  192.168.10.84|         66|\n",
            "|192.168.10.145|239.255.255.250|        868|\n",
            "|209.85.233.139|  192.168.10.84|        132|\n",
            "| 192.168.10.35|    224.0.0.251|        650|\n",
            "|192.168.10.175| 192.168.11.255|       1886|\n",
            "|192.168.10.209|    224.0.0.251|        119|\n",
            "| 192.168.10.59| 192.168.11.255|       3801|\n",
            "| 192.168.10.58|    224.0.0.251|        135|\n",
            "|74.125.205.105|  192.168.10.84|       2164|\n",
            "| 192.168.10.97| 192.168.11.255|       3480|\n",
            "|192.168.10.122| 192.168.11.255|       3422|\n",
            "|192.168.10.202|239.255.255.250|       1503|\n",
            "| 192.168.10.39| 192.168.11.255|       2054|\n",
            "+--------------+---------------+-----------+\n",
            "only showing top 20 rows\n",
            "\n"
          ]
        }
      ]
    },
    {
      "cell_type": "code",
      "source": [
        "df_pcapFile = pcapFile.toPandas()\n",
        "df_1 = df_1.toPandas()\n",
        "df_2 = df_2.toPandas()\n",
        "df_3 = df_3.toPandas()"
      ],
      "metadata": {
        "id": "LAEU3v6Mo2_f"
      },
      "execution_count": 32,
      "outputs": []
    },
    {
      "cell_type": "code",
      "source": [
        "# Bonus part"
      ],
      "metadata": {
        "id": "S2oFO7le2iBs"
      },
      "execution_count": 34,
      "outputs": []
    },
    {
      "cell_type": "code",
      "source": [
        "import matplotlib.pyplot as plt\n",
        "import seaborn as sns\n",
        "import pandas as pd\n",
        "import pylab"
      ],
      "metadata": {
        "id": "5bVh0Xyxxo7q"
      },
      "execution_count": 35,
      "outputs": []
    },
    {
      "cell_type": "code",
      "source": [
        "plt.figure(figsize=(25, 6))\n",
        "\n",
        "pylab.subplot (2, 2, 3)\n",
        "pylab.plot(df_3['Total bytes'], label=\"Total bytes\")\n",
        "pylab.title (\"Total bytes\")\n",
        "\n",
        "\n",
        "pylab.subplot (1, 2, 2)\n",
        "pylab.plot (df_pcapFile['Bytes'], label=\"Bytes\")\n",
        "pylab.title (\"Bytes\")\n",
        "\n",
        "pylab.show()\n"
      ],
      "metadata": {
        "id": "mbeo0c44yHvU",
        "colab": {
          "base_uri": "https://localhost:8080/",
          "height": 390
        },
        "outputId": "b31f589c-a0a0-4386-c2e4-89d8d878849e"
      },
      "execution_count": 36,
      "outputs": [
        {
          "output_type": "display_data",
          "data": {
            "text/plain": [
              "<Figure size 1800x432 with 2 Axes>"
            ],
            "image/png": "[encoded data removed]"
          },
          "metadata": {
            "needs_background": "light"
          }
        }
      ]
    },
    {
      "cell_type": "code",
      "source": [
        "plt.figure(figsize=(26, 6))\n",
        "plt.scatter(df_pcapFile['Source'], df_pcapFile['Destination'])\n",
        "plt.xlabel(\"Source\")\n",
        "plt.ylabel(\"Destination\")\n",
        "plt.xticks(rotation=45)\n",
        "plt.show()"
      ],
      "metadata": {
        "id": "rc8-h4TKyHsN",
        "colab": {
          "base_uri": "https://localhost:8080/",
          "height": 413
        },
        "outputId": "e6fd04fc-1919-40bb-d69f-8377b1e3c248"
      },
      "execution_count": 37,
      "outputs": [
        {
          "output_type": "display_data",
          "data": {
            "text/plain": [
              "<Figure size 1872x432 with 1 Axes>"
            ],
            "image/png": "[encoded data removed]"
          },
          "metadata": {
            "needs_background": "light"
          }
        }
      ]
    },
    {
      "cell_type": "code",
      "source": [
        "plt.figure(figsize=(26,6))\n",
        "plt.boxplot(df_pcapFile['Bytes'], vert=False)\n",
        "plt.xlabel(\"Size(bytes)\")\n",
        "plt.ylabel(\"Ethernet\")\n",
        "plt.show()"
      ],
      "metadata": {
        "colab": {
          "base_uri": "https://localhost:8080/",
          "height": 382
        },
        "id": "PHJRb9KlOAIJ",
        "outputId": "d0cdc915-09c2-492c-bd67-2bd4dfbd8a29"
      },
      "execution_count": 72,
      "outputs": [
        {
          "output_type": "display_data",
          "data": {
            "text/plain": [
              "<Figure size 1872x432 with 1 Axes>"
            ],
            "image/png": "[encoded data removed]"
          },
          "metadata": {
            "needs_background": "light"
          }
        }
      ]
    },
    {
      "cell_type": "code",
      "source": [
        "# spark.stop()\n",
        "# exit()"
      ],
      "metadata": {
        "id": "ZU9CrIvPY1TR"
      },
      "execution_count": 37,
      "outputs": []
    }
  ]
}